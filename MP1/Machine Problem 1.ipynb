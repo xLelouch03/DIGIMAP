{
 "cells": [
  {
   "cell_type": "markdown",
   "metadata": {},
   "source": [
    "# Machine Problem 1\n",
    "## Affine Transformations\n",
    "### Directions\n",
    "The goal of the machine problem is to apply the concepts of affine transformations, specifically using geometric transformations. You are to submit two files for this activity: (1) a Jupyter notebook containing the solutions to the action items. Ensure you provide comments, discussions, and proper section divisions for your code. Please also include your answer to the Guide Questions in the Jupyter Notebook; (2) a PDF version of your Jupyter Notebook. You can provide a link to your submission resources or a zip file. The instructor will run it on their local machine, so make sure the codes and files are accessible and functional. "
   ]
  },
  {
   "cell_type": "code",
   "execution_count": 10,
   "metadata": {},
   "outputs": [],
   "source": [
    "import os\n",
    "import cv2 as cv\n",
    "import numpy as np"
   ]
  },
  {
   "cell_type": "markdown",
   "metadata": {},
   "source": [
    "#### [Data Formatting] Given the image dataset:\n",
    "* Reshape the images to (100,100,3)\n",
    "* Save the transformed images as JPEG files in a separate directory."
   ]
  },
  {
   "cell_type": "code",
   "execution_count": 11,
   "metadata": {},
   "outputs": [],
   "source": [
    "input_directory = '../media/dataset2'\n",
    "output_directory = 'dataset2_resized'\n",
    "\n",
    "if not os.path.exists(output_directory):\n",
    "    os.makedirs(output_directory)\n",
    "\n",
    "# Reshape images to (100, 100, 3)\n",
    "for filename in os.listdir(input_directory):\n",
    "    if filename.endswith('.png') or filename.endswith('.jpg'):\n",
    "        img_path = os.path.join(input_directory, filename)\n",
    "        img = cv.imread(img_path)\n",
    "        \n",
    "        # Resize the image to 100x100 pixels\n",
    "        img_resized = cv.resize(img, (100, 100))\n",
    "        \n",
    "        # Save the resized image as JPEG in a separate directory\n",
    "        output_filename = os.path.join(output_directory, filename)\n",
    "        cv.imwrite(output_filename, img_resized)"
   ]
  },
  {
   "cell_type": "markdown",
   "metadata": {},
   "source": [
    "#### [Data Augmentation] Given the previous dataset:\n",
    "* Create individual parametrized functions that can:\n",
    "* Randomly put a black patch over a portion of the image\n"
   ]
  },
  {
   "cell_type": "code",
   "execution_count": 12,
   "metadata": {},
   "outputs": [],
   "source": [
    "def random_black_patch(img):\n",
    "    h, w, _ = img.shape\n",
    "    patch_size = np.random.randint(10, 30)  \n",
    "    x1 = np.random.randint(0, w - patch_size)\n",
    "    y1 = np.random.randint(0, h - patch_size)\n",
    "    img[y1:y1+patch_size, x1:x1+patch_size] = 0  \n",
    "    return img"
   ]
  },
  {
   "cell_type": "markdown",
   "metadata": {},
   "source": [
    "* Shift an image sideward or upwards.\n"
   ]
  },
  {
   "cell_type": "code",
   "execution_count": 13,
   "metadata": {},
   "outputs": [],
   "source": [
    "def shift_image(img, shift_x, shift_y):\n",
    "    h, w = img.shape[:2]\n",
    "    M = np.float32([[1, 0, shift_x], [0, 1, shift_y]])\n",
    "    shifted_img = cv.warpAffine(img, M, (w, h))\n",
    "    return shifted_img"
   ]
  },
  {
   "cell_type": "markdown",
   "metadata": {},
   "source": [
    "* Rotate an image either for"
   ]
  },
  {
   "cell_type": "code",
   "execution_count": 14,
   "metadata": {},
   "outputs": [],
   "source": [
    "def rotate_image(img, angle):\n",
    "    h, w = img.shape[:2]\n",
    "    center = (w // 2, h // 2)\n",
    "    M = cv.getRotationMatrix2D(center, angle, 1.0)\n",
    "    rotated_img = cv.warpAffine(img, M, (w, h))\n",
    "    return rotated_img"
   ]
  },
  {
   "cell_type": "markdown",
   "metadata": {},
   "source": [
    "* Flip an image either vertically or horizontally.\n"
   ]
  },
  {
   "cell_type": "code",
   "execution_count": 15,
   "metadata": {},
   "outputs": [],
   "source": [
    "def flip_image(image, value):\n",
    "    return cv.flip(image, value)  # 0=vertical, 1=horizontal\n"
   ]
  },
  {
   "cell_type": "markdown",
   "metadata": {},
   "source": [
    "#### Produce a new augmented dataset with at least 100 images (original images included) using the functions made in the previous action item."
   ]
  },
  {
   "cell_type": "code",
   "execution_count": 18,
   "metadata": {},
   "outputs": [],
   "source": [
    "augmented_output_dir = 'dataset2_augmented'\n",
    "if not os.path.exists(augmented_output_dir):\n",
    "    os.makedirs(augmented_output_dir)"
   ]
  },
  {
   "cell_type": "code",
   "execution_count": 19,
   "metadata": {},
   "outputs": [],
   "source": [
    "image_count = 0\n",
    "for filename in os.listdir(output_directory):\n",
    "    if filename.endswith('.jpg'):\n",
    "        img_path = os.path.join(output_directory, filename)\n",
    "        image = cv.imread(img_path)\n",
    "\n",
    "        # Augmentations\n",
    "        aug_images = [\n",
    "            random_black_patch(image.copy()),\n",
    "            shift_image(image.copy(), 20, 0),  # Shift right\n",
    "            shift_image(image.copy(), 0, -20),  # Shift up\n",
    "            rotate_image(image.copy(), 45),  # Rotate 45 degrees\n",
    "            flip_image(image.copy(), 0),  # Flip vertically\n",
    "            flip_image(image.copy(), 1),  # Flip horizontally\n",
    "        ]\n",
    "\n",
    "        # Save original and augmented images\n",
    "        for i, aug_img in enumerate(aug_images):\n",
    "            output_filename = f'{filename.split(\".\")[0]}_aug_{i}.jpg'\n",
    "            cv.imwrite(os.path.join(augmented_output_dir, output_filename), aug_img)\n",
    "            image_count += 1\n",
    "\n",
    "        # Save the original image too\n",
    "        cv.imwrite(os.path.join(augmented_output_dir, filename), image)\n",
    "        image_count += 1\n",
    "\n",
    "    if image_count >= 100:\n",
    "        break\n"
   ]
  },
  {
   "cell_type": "markdown",
   "metadata": {},
   "source": [
    "### Guide Questions:\n",
    "* Define Data Augmentation and discuss its importance and the importance of understanding digital image processing for such an activity.\n",
    "    Data augmentation is a method used to increase the variety of a dataset without needing to gather new data. This is achieved by applying different transformations to existing data, particularly images. Common transformations include rotating, flipping, scaling, cropping, and adjusting brightness. The goal of these changes is to produce diverse versions of the original dataset, which helps strengthen machine learning models by making them less prone to overfitting and better at generalizing to new, unseen data.
         The significance of data augmentation is evident in its ability to boost model performance, especially when working with small datasets. By artificially enlarging the dataset, models can learn from a wider range of examples, which decreases the likelihood of overfitting to specific patterns. This is especially useful in deep learning tasks like image classification and object detection.
         Having a solid understanding of digital image processing is essential for effective data augmentation. Knowledge of image processing techniques enables one to manipulate and modify images in a thoughtful and purposeful manner. A good grasp of these concepts ensures that the augmentations keep the data's integrity while adding variations that enhance learning. For instance, applying transformations such as changing color spaces, adding noise, or performing histogram equalization requires familiarity with image processing basics. This understanding helps ensure that the augmented data remains realistic and improves model performance without compromising the original content."
   ]
  },
  {
   "cell_type": "markdown",
   "metadata": {},
   "source": [
    "\n",
    "* What other data augmentation techniques are applicable and not applicable to the dataset you have produced? Why?\n",
    "    * insert answer"
   ]
  }
 ],
 "metadata": {
  "kernelspec": {
   "display_name": "Python 3",
   "language": "python",
   "name": "python3"
  },
  "language_info": {
   "codemirror_mode": {
    "name": "ipython",
    "version": 3
   },
   "file_extension": ".py",
   "mimetype": "text/x-python",
   "name": "python",
   "nbconvert_exporter": "python",
   "pygments_lexer": "ipython3",
   "version": "3.12.6"
  }
 },
 "nbformat": 4,
 "nbformat_minor": 2
}
