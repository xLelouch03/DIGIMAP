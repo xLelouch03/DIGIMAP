{
 "cells": [
  {
   "cell_type": "markdown",
   "metadata": {},
   "source": [
    "## Basic Animal Classification using "
   ]
  },
  {
   "cell_type": "markdown",
   "metadata": {
    "vscode": {
     "languageId": "plaintext"
    }
   },
   "source": [
    "### Animal-10 Dataset\n",
    "\n",
    "The Animals-10 Dataset contains approximately 28,000 medium-quality images categorized into 10 classes: dog, cat, horse, spider, butterfly, chicken, sheep, cow, squirrel, and elephant. These images were collected from Google Images and verified by humans, with some erroneous samples included to reflect real-world conditions, such as user-submitted images.\n",
    "\n",
    "The dataset is organized into directories corresponding to each category, with class sizes ranging from 2,000 to 5,000 images. This dataset can simulate applications such as smart image galleries for researchers like biologists.\n",
    "\n",
    "This dataset was retrieved from Kaggle and was submitted by Corrado Alessio."
   ]
  }
 ],
 "metadata": {
  "language_info": {
   "name": "python"
  }
 },
 "nbformat": 4,
 "nbformat_minor": 2
}
